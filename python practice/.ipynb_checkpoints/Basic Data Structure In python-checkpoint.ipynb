{
 "cells": [
  {
   "cell_type": "markdown",
   "id": "8829aa3b",
   "metadata": {},
   "source": [
    "### Basic Data Structure in Python\n",
    "\n",
    "1) Tuple\n",
    "2) List\n",
    "3) Dictionary\n",
    "4) Set\n",
    "\n",
    "### 1 -Tuple\n",
    "- Ordered collection of elements\n",
    "- enclosed in () round braces/ parenthesis\n",
    "- Different kind of elements ca be stored\n",
    "- Once elements stored, you can't change elements (Unmutatable)\n"
   ]
  },
  {
   "cell_type": "code",
   "execution_count": 5,
   "id": "3647efe1",
   "metadata": {},
   "outputs": [
    {
     "data": {
      "text/plain": [
       "(1, 'python', 'khan', True, 2.5)"
      ]
     },
     "execution_count": 5,
     "metadata": {},
     "output_type": "execute_result"
    }
   ],
   "source": [
    "tuple = (1,\"python\",\"khan\", True, 2.5)\n",
    "tuple"
   ]
  },
  {
   "cell_type": "code",
   "execution_count": 6,
   "id": "ddcb53b2",
   "metadata": {},
   "outputs": [
    {
     "data": {
      "text/plain": [
       "1"
      ]
     },
     "execution_count": 6,
     "metadata": {},
     "output_type": "execute_result"
    }
   ],
   "source": [
    "tuple[0]"
   ]
  },
  {
   "cell_type": "code",
   "execution_count": 7,
   "id": "21dec623",
   "metadata": {},
   "outputs": [
    {
     "data": {
      "text/plain": [
       "'python'"
      ]
     },
     "execution_count": 7,
     "metadata": {},
     "output_type": "execute_result"
    }
   ],
   "source": [
    "tuple[1]"
   ]
  },
  {
   "cell_type": "code",
   "execution_count": 8,
   "id": "6d4ed2a4",
   "metadata": {},
   "outputs": [
    {
     "data": {
      "text/plain": [
       "(1, 'python', 'khan', True, 2.5)"
      ]
     },
     "execution_count": 8,
     "metadata": {},
     "output_type": "execute_result"
    }
   ],
   "source": [
    "tuple[0:5]"
   ]
  },
  {
   "cell_type": "code",
   "execution_count": 9,
   "id": "25998304",
   "metadata": {},
   "outputs": [
    {
     "data": {
      "text/plain": [
       "2.5"
      ]
     },
     "execution_count": 9,
     "metadata": {},
     "output_type": "execute_result"
    }
   ],
   "source": [
    "tuple[-1]"
   ]
  },
  {
   "cell_type": "code",
   "execution_count": 10,
   "id": "4b6d7dec",
   "metadata": {},
   "outputs": [
    {
     "data": {
      "text/plain": [
       "tuple"
      ]
     },
     "execution_count": 10,
     "metadata": {},
     "output_type": "execute_result"
    }
   ],
   "source": [
    "type(tuple)"
   ]
  },
  {
   "cell_type": "code",
   "execution_count": 11,
   "id": "a07cf724",
   "metadata": {},
   "outputs": [
    {
     "data": {
      "text/plain": [
       "5"
      ]
     },
     "execution_count": 11,
     "metadata": {},
     "output_type": "execute_result"
    }
   ],
   "source": [
    "len(tuple)"
   ]
  },
  {
   "cell_type": "markdown",
   "id": "0efbfe40",
   "metadata": {},
   "source": [
    "## We can add two tuple"
   ]
  },
  {
   "cell_type": "code",
   "execution_count": 12,
   "id": "bcd08b48",
   "metadata": {},
   "outputs": [
    {
     "data": {
      "text/plain": [
       "('kda', 'Kohat', 'College')"
      ]
     },
     "execution_count": 12,
     "metadata": {},
     "output_type": "execute_result"
    }
   ],
   "source": [
    "tuple1 =(\"kda\",\"Kohat\",\"College\")\n",
    "tuple1"
   ]
  },
  {
   "cell_type": "code",
   "execution_count": 13,
   "id": "ad827bcc",
   "metadata": {},
   "outputs": [
    {
     "data": {
      "text/plain": [
       "(1, 'python', 'khan', True, 2.5, 'kda', 'Kohat', 'College')"
      ]
     },
     "execution_count": 13,
     "metadata": {},
     "output_type": "execute_result"
    }
   ],
   "source": [
    "tuple + tuple1"
   ]
  },
  {
   "cell_type": "markdown",
   "id": "250b034b",
   "metadata": {},
   "source": [
    "### We can multiply a tuple"
   ]
  },
  {
   "cell_type": "code",
   "execution_count": 14,
   "id": "70a1bf08",
   "metadata": {},
   "outputs": [
    {
     "data": {
      "text/plain": [
       "(1,\n",
       " 'python',\n",
       " 'khan',\n",
       " True,\n",
       " 2.5,\n",
       " 1,\n",
       " 'python',\n",
       " 'khan',\n",
       " True,\n",
       " 2.5,\n",
       " 'kda',\n",
       " 'Kohat',\n",
       " 'College')"
      ]
     },
     "execution_count": 14,
     "metadata": {},
     "output_type": "execute_result"
    }
   ],
   "source": [
    "tuple*2+tuple1"
   ]
  },
  {
   "cell_type": "markdown",
   "id": "988f8d08",
   "metadata": {},
   "source": [
    "### Minimum and Maximum value in tuple"
   ]
  },
  {
   "cell_type": "code",
   "execution_count": 15,
   "id": "4b8bac0c",
   "metadata": {},
   "outputs": [
    {
     "data": {
      "text/plain": [
       "1"
      ]
     },
     "execution_count": 15,
     "metadata": {},
     "output_type": "execute_result"
    }
   ],
   "source": [
    "tuple3 = (1,5,7,2,9)\n",
    "min(tuple3)"
   ]
  },
  {
   "cell_type": "code",
   "execution_count": 16,
   "id": "9b18fee6",
   "metadata": {},
   "outputs": [
    {
     "data": {
      "text/plain": [
       "9"
      ]
     },
     "execution_count": 16,
     "metadata": {},
     "output_type": "execute_result"
    }
   ],
   "source": [
    "max(tuple3)"
   ]
  },
  {
   "cell_type": "markdown",
   "id": "9d2d153d",
   "metadata": {},
   "source": [
    "---"
   ]
  },
  {
   "cell_type": "markdown",
   "id": "f9682767",
   "metadata": {},
   "source": [
    "### List\n",
    "- ordered collection of elements\n",
    "- enclose in [] square brackets\n",
    "- mutateable, you can change and replace the elements in list"
   ]
  },
  {
   "cell_type": "code",
   "execution_count": 17,
   "id": "5fbb6ee8",
   "metadata": {},
   "outputs": [
    {
     "data": {
      "text/plain": [
       "[1, 'khan', True, 2.0]"
      ]
     },
     "execution_count": 17,
     "metadata": {},
     "output_type": "execute_result"
    }
   ],
   "source": [
    "list1 = [1,\"khan\",True,2.0]\n",
    "list1"
   ]
  },
  {
   "cell_type": "code",
   "execution_count": 18,
   "id": "7fcc98d4",
   "metadata": {},
   "outputs": [
    {
     "data": {
      "text/plain": [
       "[1, 'khan', True, 2.0, 1, 'khan', True, 2.0]"
      ]
     },
     "execution_count": 18,
     "metadata": {},
     "output_type": "execute_result"
    }
   ],
   "source": [
    "list1*2"
   ]
  },
  {
   "cell_type": "code",
   "execution_count": 19,
   "id": "46ce4fd8",
   "metadata": {},
   "outputs": [
    {
     "data": {
      "text/plain": [
       "['college', 2]"
      ]
     },
     "execution_count": 19,
     "metadata": {},
     "output_type": "execute_result"
    }
   ],
   "source": [
    "list2=[\"college\",2]\n",
    "list2"
   ]
  },
  {
   "cell_type": "code",
   "execution_count": 20,
   "id": "a2c675bd",
   "metadata": {},
   "outputs": [
    {
     "data": {
      "text/plain": [
       "[1, 'khan', True, 2.0, 'college', 2]"
      ]
     },
     "execution_count": 20,
     "metadata": {},
     "output_type": "execute_result"
    }
   ],
   "source": [
    "list1 +  list2"
   ]
  },
  {
   "cell_type": "code",
   "execution_count": 21,
   "id": "2b35eb7a",
   "metadata": {},
   "outputs": [
    {
     "data": {
      "text/plain": [
       "[1, 'khan', True, 2.0, 'Aurang Zeb ']"
      ]
     },
     "execution_count": 21,
     "metadata": {},
     "output_type": "execute_result"
    }
   ],
   "source": [
    "list1.append(\"Aurang Zeb \")\n",
    "list1"
   ]
  },
  {
   "cell_type": "code",
   "execution_count": 22,
   "id": "01a7f6a5",
   "metadata": {},
   "outputs": [
    {
     "data": {
      "text/plain": [
       "['college', 2]"
      ]
     },
     "execution_count": 22,
     "metadata": {},
     "output_type": "execute_result"
    }
   ],
   "source": [
    "list2"
   ]
  },
  {
   "cell_type": "code",
   "execution_count": 23,
   "id": "2d345efb",
   "metadata": {},
   "outputs": [
    {
     "data": {
      "text/plain": [
       "[1, 'khan', True, 2.0, 'Aurang Zeb ']"
      ]
     },
     "execution_count": 23,
     "metadata": {},
     "output_type": "execute_result"
    }
   ],
   "source": [
    "list1"
   ]
  },
  {
   "cell_type": "markdown",
   "id": "cedde3f7",
   "metadata": {},
   "source": [
    "### How to reverse a list"
   ]
  },
  {
   "cell_type": "code",
   "execution_count": 24,
   "id": "21375687",
   "metadata": {},
   "outputs": [
    {
     "data": {
      "text/plain": [
       "['Aurang Zeb ', 2.0, True, 'khan', 1]"
      ]
     },
     "execution_count": 24,
     "metadata": {},
     "output_type": "execute_result"
    }
   ],
   "source": [
    "list1.reverse()\n",
    "list1"
   ]
  },
  {
   "cell_type": "markdown",
   "id": "d2072442",
   "metadata": {},
   "source": [
    "### How to count a specific element in python"
   ]
  },
  {
   "cell_type": "code",
   "execution_count": 25,
   "id": "c66fb9f8",
   "metadata": {},
   "outputs": [
    {
     "data": {
      "text/plain": [
       "2"
      ]
     },
     "execution_count": 25,
     "metadata": {},
     "output_type": "execute_result"
    }
   ],
   "source": [
    "list4 = [2,3,4,5,2,5]\n",
    "list4.count(2)"
   ]
  },
  {
   "cell_type": "markdown",
   "id": "68425d24",
   "metadata": {},
   "source": [
    "### How to sort an array"
   ]
  },
  {
   "cell_type": "code",
   "execution_count": 26,
   "id": "03d5e8ef",
   "metadata": {},
   "outputs": [
    {
     "data": {
      "text/plain": [
       "[2, 4, 7, 8, 8, 9]"
      ]
     },
     "execution_count": 26,
     "metadata": {},
     "output_type": "execute_result"
    }
   ],
   "source": [
    "list5 = [4,8,9,7,2,8]\n",
    "list5.sort()\n",
    "list5"
   ]
  },
  {
   "cell_type": "markdown",
   "id": "5d0943f2",
   "metadata": {},
   "source": [
    "# 3- Dictionary"
   ]
  },
  {
   "cell_type": "markdown",
   "id": "367bab34",
   "metadata": {},
   "source": [
    "- an unordered collection of elements\n",
    "- Key and value\n",
    "- curly braces or brackets\n",
    "- Mutateable"
   ]
  },
  {
   "cell_type": "code",
   "execution_count": 27,
   "id": "e74a8a6e",
   "metadata": {},
   "outputs": [
    {
     "data": {
      "text/plain": [
       "{'tomato': 200, 'Raita': 20, 'onion': 200, 'bean': 50}"
      ]
     },
     "execution_count": 27,
     "metadata": {},
     "output_type": "execute_result"
    }
   ],
   "source": [
    "# food dictionary\n",
    "dic1 = {\"tomato\":200 , \"Raita\":20, \"onion\":200,\"bean\":50}\n",
    "dic1"
   ]
  },
  {
   "cell_type": "code",
   "execution_count": 28,
   "id": "06b2785a",
   "metadata": {},
   "outputs": [
    {
     "data": {
      "text/plain": [
       "dict_keys(['tomato', 'Raita', 'onion', 'bean'])"
      ]
     },
     "execution_count": 28,
     "metadata": {},
     "output_type": "execute_result"
    }
   ],
   "source": [
    "dic1.keys()"
   ]
  },
  {
   "cell_type": "code",
   "execution_count": 29,
   "id": "deda6af0",
   "metadata": {},
   "outputs": [
    {
     "data": {
      "text/plain": [
       "dict_values([200, 20, 200, 50])"
      ]
     },
     "execution_count": 29,
     "metadata": {},
     "output_type": "execute_result"
    }
   ],
   "source": [
    "dic1.values()"
   ]
  },
  {
   "cell_type": "code",
   "execution_count": 30,
   "id": "79e01b75",
   "metadata": {},
   "outputs": [
    {
     "data": {
      "text/plain": [
       "{'tomato': 200, 'Raita': 20, 'onion': 200, 'bean': 50}"
      ]
     },
     "execution_count": 30,
     "metadata": {},
     "output_type": "execute_result"
    }
   ],
   "source": [
    "dic2 = dic1.copy()\n",
    "dic2"
   ]
  },
  {
   "cell_type": "code",
   "execution_count": 33,
   "id": "f0d0efd4",
   "metadata": {},
   "outputs": [
    {
     "data": {
      "text/plain": [
       "{'tomato': 200, 'Raita': 20, 'onion': 200, 'bean': 50, 'rice': 230}"
      ]
     },
     "execution_count": 33,
     "metadata": {},
     "output_type": "execute_result"
    }
   ],
   "source": [
    "dic2[\"rice\"] = 230\n",
    "dic2"
   ]
  },
  {
   "cell_type": "code",
   "execution_count": 34,
   "id": "d4681074",
   "metadata": {},
   "outputs": [
    {
     "data": {
      "text/plain": [
       "{'tomato': 200, 'Raita': 20, 'onion': 200, 'bean': 50, 'rice': 100}"
      ]
     },
     "execution_count": 34,
     "metadata": {},
     "output_type": "execute_result"
    }
   ],
   "source": [
    "# updating in dictionary\n",
    "# rice price will be updated from 230 to 100 in dictionary\n",
    "dic2[\"rice\"] = 100\n",
    "dic2"
   ]
  },
  {
   "cell_type": "code",
   "execution_count": 39,
   "id": "5a783b27",
   "metadata": {},
   "outputs": [
    {
     "data": {
      "text/plain": [
       "{'tomato': 200, 'Raita': 20, 'onion': 200, 'bean': 50}"
      ]
     },
     "execution_count": 39,
     "metadata": {},
     "output_type": "execute_result"
    }
   ],
   "source": [
    "# Concatenation is totally different in dictionary\n",
    "dic1\n"
   ]
  },
  {
   "cell_type": "code",
   "execution_count": 40,
   "id": "99acfee7",
   "metadata": {},
   "outputs": [
    {
     "data": {
      "text/plain": [
       "{'tomato': 200, 'Raita': 20, 'onion': 200, 'bean': 50, 'rice': 100}"
      ]
     },
     "execution_count": 40,
     "metadata": {},
     "output_type": "execute_result"
    }
   ],
   "source": [
    "dic2"
   ]
  },
  {
   "cell_type": "code",
   "execution_count": 42,
   "id": "aebf0d38",
   "metadata": {},
   "outputs": [
    {
     "data": {
      "text/plain": [
       "{'tomato': 200, 'Raita': 20, 'onion': 200, 'bean': 50, 'rice': 100}"
      ]
     },
     "execution_count": 42,
     "metadata": {},
     "output_type": "execute_result"
    }
   ],
   "source": [
    "dic2.update(dic1)\n",
    "dic2"
   ]
  },
  {
   "cell_type": "markdown",
   "id": "d318a637",
   "metadata": {},
   "source": [
    "### - Set in python\n",
    "- Unordered and unidexed\n",
    "- Curly braces are use {}\n",
    "- No duplicates are allowed\n",
    "- {Ture,False} will not be sored in sets\n",
    "- Only digit and strings or characters will be stored there"
   ]
  },
  {
   "cell_type": "code",
   "execution_count": 45,
   "id": "0204fb21",
   "metadata": {},
   "outputs": [
    {
     "data": {
      "text/plain": [
       "{1, 2, 3, 'Aurang Zeb ', 'Khan'}"
      ]
     },
     "execution_count": 45,
     "metadata": {},
     "output_type": "execute_result"
    }
   ],
   "source": [
    "s1 = {1,2,3,\"Aurang Zeb \",\"Khan\"}\n",
    "s1"
   ]
  },
  {
   "cell_type": "code",
   "execution_count": 46,
   "id": "1fc6f10c",
   "metadata": {},
   "outputs": [
    {
     "data": {
      "text/plain": [
       "set"
      ]
     },
     "execution_count": 46,
     "metadata": {},
     "output_type": "execute_result"
    }
   ],
   "source": [
    "type(s1)"
   ]
  },
  {
   "cell_type": "code",
   "execution_count": 49,
   "id": "18b7ef10",
   "metadata": {},
   "outputs": [],
   "source": [
    "s1.add(7)"
   ]
  },
  {
   "cell_type": "code",
   "execution_count": 51,
   "id": "6be4f6b4",
   "metadata": {},
   "outputs": [
    {
     "data": {
      "text/plain": [
       "{1, 2, 3, 7, 'Aurang Zeb ', 'Khan'}"
      ]
     },
     "execution_count": 51,
     "metadata": {},
     "output_type": "execute_result"
    }
   ],
   "source": [
    "s1"
   ]
  },
  {
   "cell_type": "code",
   "execution_count": 58,
   "id": "17212497",
   "metadata": {},
   "outputs": [
    {
     "data": {
      "text/plain": [
       "set()"
      ]
     },
     "execution_count": 58,
     "metadata": {},
     "output_type": "execute_result"
    }
   ],
   "source": [
    "s1.clear()\n",
    "s1"
   ]
  },
  {
   "cell_type": "code",
   "execution_count": 67,
   "id": "9a8ea5d0",
   "metadata": {},
   "outputs": [
    {
     "data": {
      "text/plain": [
       "{7, 'Aurang Zeb Khan'}"
      ]
     },
     "execution_count": 67,
     "metadata": {},
     "output_type": "execute_result"
    }
   ],
   "source": [
    "s1.add(7)\n",
    "s1"
   ]
  },
  {
   "cell_type": "code",
   "execution_count": 68,
   "id": "d45cff95",
   "metadata": {},
   "outputs": [
    {
     "data": {
      "text/plain": [
       "{7, 'Aurang Zeb Khan'}"
      ]
     },
     "execution_count": 68,
     "metadata": {},
     "output_type": "execute_result"
    }
   ],
   "source": [
    "s1.add(\"Aurang Zeb Khan\")\n",
    "s1"
   ]
  },
  {
   "cell_type": "code",
   "execution_count": 69,
   "id": "5ee146f1",
   "metadata": {},
   "outputs": [
    {
     "data": {
      "text/plain": [
       "{'Aurang Zeb Khan'}"
      ]
     },
     "execution_count": 69,
     "metadata": {},
     "output_type": "execute_result"
    }
   ],
   "source": [
    "# give item name, that will be removed from the set\n",
    "s1.remove(7)\n",
    "s1"
   ]
  }
 ],
 "metadata": {
  "kernelspec": {
   "display_name": "Python 3 (ipykernel)",
   "language": "python",
   "name": "python3"
  },
  "language_info": {
   "codemirror_mode": {
    "name": "ipython",
    "version": 3
   },
   "file_extension": ".py",
   "mimetype": "text/x-python",
   "name": "python",
   "nbconvert_exporter": "python",
   "pygments_lexer": "ipython3",
   "version": "3.9.13"
  }
 },
 "nbformat": 4,
 "nbformat_minor": 5
}
