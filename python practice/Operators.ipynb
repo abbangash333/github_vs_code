{
 "cells": [
  {
   "cell_type": "code",
   "execution_count": 1,
   "id": "c417e7d7",
   "metadata": {},
   "outputs": [
    {
     "data": {
      "text/plain": [
       "10"
      ]
     },
     "execution_count": 1,
     "metadata": {},
     "output_type": "execute_result"
    }
   ],
   "source": [
    "a = 5+5\n",
    "a"
   ]
  },
  {
   "cell_type": "markdown",
   "id": "8b7bcaba",
   "metadata": {},
   "source": [
    "# This is the adding program\n"
   ]
  },
  {
   "cell_type": "markdown",
   "id": "016c3282",
   "metadata": {},
   "source": [
    "### This program is for function"
   ]
  },
  {
   "cell_type": "code",
   "execution_count": 13,
   "id": "44c537e4",
   "metadata": {},
   "outputs": [
    {
     "name": "stdout",
     "output_type": "stream",
     "text": [
      "This is my second program in python\n"
     ]
    }
   ],
   "source": [
    "def String_function(text):\n",
    "     for i in range(0,1):\n",
    "     \n",
    "      print(text)\n",
    "#     print (\"This is my second program in python\")\n",
    "\n",
    "String_function(\"This is my second program in python\")\n"
   ]
  },
  {
   "cell_type": "markdown",
   "id": "83092862",
   "metadata": {},
   "source": [
    "### Different types of loops"
   ]
  },
  {
   "cell_type": "code",
   "execution_count": 27,
   "id": "4a6068af",
   "metadata": {},
   "outputs": [
    {
     "name": "stdout",
     "output_type": "stream",
     "text": [
      "1\n"
     ]
    }
   ],
   "source": [
    "x=0\n",
    "        \n",
    "for i in range(0,1):\n",
    "        \n",
    "        x = x+1\n",
    "        print(x)"
   ]
  },
  {
   "cell_type": "markdown",
   "id": "2c148d03",
   "metadata": {},
   "source": [
    " ### loops in python"
   ]
  },
  {
   "cell_type": "code",
   "execution_count": 31,
   "id": "4be14950",
   "metadata": {},
   "outputs": [
    {
     "name": "stdout",
     "output_type": "stream",
     "text": [
      "Number is 0!\n",
      "Number is 1!\n",
      "Number is 2!\n",
      "Number is 3!\n",
      "Number is 4!\n",
      "Number is 5!\n",
      "Number is 6!\n",
      "Number is 7!\n",
      "Number is 8!\n",
      "Number is 9!\n"
     ]
    }
   ],
   "source": [
    "number = 0\n",
    "while number < 10:\n",
    "    print(f\"Number is {number}!\")\n",
    "    number = number + 1"
   ]
  },
  {
   "cell_type": "code",
   "execution_count": null,
   "id": "1b8a8cd7",
   "metadata": {},
   "outputs": [],
   "source": []
  },
  {
   "cell_type": "code",
   "execution_count": null,
   "id": "92cfd1c3",
   "metadata": {},
   "outputs": [],
   "source": []
  }
 ],
 "metadata": {
  "kernelspec": {
   "display_name": "Python 3 (ipykernel)",
   "language": "python",
   "name": "python3"
  },
  "language_info": {
   "codemirror_mode": {
    "name": "ipython",
    "version": 3
   },
   "file_extension": ".py",
   "mimetype": "text/x-python",
   "name": "python",
   "nbconvert_exporter": "python",
   "pygments_lexer": "ipython3",
   "version": "3.9.13"
  }
 },
 "nbformat": 4,
 "nbformat_minor": 5
}
