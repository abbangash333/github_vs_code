{
 "cells": [
  {
   "cell_type": "code",
   "execution_count": 1,
   "id": "21e05719",
   "metadata": {},
   "outputs": [],
   "source": [
    "# BMI Calculator in Python\n",
    "# We need Height in m\n",
    "# We need weight in KG\n",
    "# BMI Formul\n",
    "# BMI = height/weight**2"
   ]
  },
  {
   "cell_type": "code",
   "execution_count": 2,
   "id": "a6d1bd9c",
   "metadata": {
    "scrolled": true
   },
   "outputs": [
    {
     "name": "stdout",
     "output_type": "stream",
     "text": [
      "Enter your height in Meter1.74\n"
     ]
    }
   ],
   "source": [
    "height = input(\"Enter your height in Meter\")"
   ]
  },
  {
   "cell_type": "code",
   "execution_count": 3,
   "id": "f441e89c",
   "metadata": {},
   "outputs": [],
   "source": [
    "height = float(height)"
   ]
  },
  {
   "cell_type": "code",
   "execution_count": 4,
   "id": "a2dd5f77",
   "metadata": {},
   "outputs": [
    {
     "name": "stdout",
     "output_type": "stream",
     "text": [
      " Enter your weight in KG75\n"
     ]
    }
   ],
   "source": [
    "weight = input(\" Enter your weight in KG\")"
   ]
  },
  {
   "cell_type": "code",
   "execution_count": 5,
   "id": "ad1bea8c",
   "metadata": {},
   "outputs": [],
   "source": [
    "weight = float(weight)"
   ]
  },
  {
   "cell_type": "code",
   "execution_count": 6,
   "id": "31516646",
   "metadata": {},
   "outputs": [
    {
     "name": "stdout",
     "output_type": "stream",
     "text": [
      " Enter your nameAurang Zeb Khan\n"
     ]
    }
   ],
   "source": [
    "name = input(\" Enter your name\")"
   ]
  },
  {
   "cell_type": "code",
   "execution_count": 7,
   "id": "63f47a69",
   "metadata": {},
   "outputs": [],
   "source": [
    "# Now calculate BMI"
   ]
  },
  {
   "cell_type": "code",
   "execution_count": 15,
   "id": "fe5990a7",
   "metadata": {},
   "outputs": [
    {
     "data": {
      "text/plain": [
       "('your name is ', 'Aurang Zeb Khan', ' and your BMI is ', 24.772096710265558)"
      ]
     },
     "execution_count": 15,
     "metadata": {},
     "output_type": "execute_result"
    }
   ],
   "source": [
    "BMI = weight/height**2\n",
    "Output = \"your name is \" ,name, \" and your BMI is \",BMI\n",
    "Output\n"
   ]
  }
 ],
 "metadata": {
  "kernelspec": {
   "display_name": "Python 3 (ipykernel)",
   "language": "python",
   "name": "python3"
  },
  "language_info": {
   "codemirror_mode": {
    "name": "ipython",
    "version": 3
   },
   "file_extension": ".py",
   "mimetype": "text/x-python",
   "name": "python",
   "nbconvert_exporter": "python",
   "pygments_lexer": "ipython3",
   "version": "3.9.13"
  }
 },
 "nbformat": 4,
 "nbformat_minor": 5
}
